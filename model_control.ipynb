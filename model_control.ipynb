{
 "cells": [
  {
   "cell_type": "code",
   "execution_count": 1,
   "metadata": {},
   "outputs": [
    {
     "name": "stderr",
     "output_type": "stream",
     "text": [
      "Using TensorFlow backend.\n"
     ]
    }
   ],
   "source": [
    "import pandas as pd\n",
    "import cv2\n",
    "import csv\n",
    "import random\n",
    "import keras\n",
    "\n",
    "from keras.models import Sequential, load_model, Model\n",
    "from keras import optimizers\n",
    "from keras.layers import Dense, Activation, Flatten, Dropout, Lambda, SpatialDropout2D\n",
    "from keras.layers import Conv2D, Cropping2D, LSTM, Input, GRU\n",
    "from keras.layers import MaxPooling2D,AveragePooling2D, concatenate\n",
    "from sklearn.utils import shuffle\n",
    "from keras.callbacks import ModelCheckpoint\n",
    "import tensorflow as tf\n",
    "from sklearn.model_selection import train_test_split\n",
    "import numpy as np\n",
    "from keras.backend import squeeze"
   ]
  },
  {
   "cell_type": "code",
   "execution_count": 2,
   "metadata": {},
   "outputs": [],
   "source": [
    "centers_train = []\n",
    "lefts_train = []\n",
    "rights_train = []\n",
    "centers_valid = []\n",
    "lefts_valid = []\n",
    "rights_valid = []"
   ]
  },
  {
   "cell_type": "code",
   "execution_count": 3,
   "metadata": {},
   "outputs": [],
   "source": [
    "range_speed = (32 - 3)/2.\n",
    "center_speed = (32 + 3)/2."
   ]
  },
  {
   "cell_type": "code",
   "execution_count": 4,
   "metadata": {},
   "outputs": [],
   "source": [
    "df = pd.read_csv(\"./Data1/driving_log.csv\")\n",
    "for i in df.index:\n",
    "    centers_train.append(['Data1/IMG/' + df['center'][i].split('\\\\')[-1], df['steering'][i], \\\n",
    "                  (df['speed'][i] - center_speed)/range_speed])\n",
    "    lefts_train.append(['Data1/IMG/' + df['left'][i].split('\\\\')[-1], df['steering'][i] + 0.18, \\\n",
    "                 (df['speed'][i] - center_speed)/range_speed]) \n",
    "    rights_train.append(['Data1/IMG/' + df['right'][i].split('\\\\')[-1], df['steering'][i]- 0.18, \\\n",
    "                 (df['speed'][i] - center_speed)/range_speed])\n",
    "\n",
    "df = pd.read_csv(\"./Data2/driving_log.csv\")\n",
    "for i in df.index:\n",
    "    centers_valid.append(['Data2/IMG/' + df['center'][i].split('\\\\')[-1], df['steering'][i], \\\n",
    "                  (df['speed'][i] - center_speed)/range_speed])\n",
    "    lefts_valid.append(['Data2/IMG/' + df['left'][i].split('\\\\')[-1], df['steering'][i] + 0.18, \\\n",
    "                 (df['speed'][i] - center_speed)/range_speed]) \n",
    "    rights_valid.append(['Data2/IMG/' + df['right'][i].split('\\\\')[-1], df['steering'][i]- 0.18, \\\n",
    "                 (df['speed'][i] - center_speed)/range_speed])"
   ]
  },
  {
   "cell_type": "code",
   "execution_count": 5,
   "metadata": {},
   "outputs": [
    {
     "data": {
      "text/plain": [
       "[['Data1/IMG/center_2018_12_13_19_32_40_877.jpg',\n",
       "  -0.08823529,\n",
       "  -0.4365572413793104],\n",
       " ['Data1/IMG/center_2018_12_13_19_32_40_949.jpg',\n",
       "  -0.08823529,\n",
       "  -0.43972344827586207],\n",
       " ['Data1/IMG/center_2018_12_13_19_32_41_021.jpg',\n",
       "  -0.08823529,\n",
       "  -0.43503448275862067],\n",
       " ['Data1/IMG/center_2018_12_13_19_32_41_091.jpg',\n",
       "  -0.08823529,\n",
       "  -0.4385344827586207],\n",
       " ['Data1/IMG/center_2018_12_13_19_32_41_161.jpg',\n",
       "  -0.08823529,\n",
       "  -0.44471103448275867]]"
      ]
     },
     "execution_count": 5,
     "metadata": {},
     "output_type": "execute_result"
    }
   ],
   "source": [
    "centers_train[:5]"
   ]
  },
  {
   "cell_type": "code",
   "execution_count": 6,
   "metadata": {},
   "outputs": [
    {
     "data": {
      "text/plain": [
       "[['Data1/IMG/center_2018_12_13_19_38_55_337.jpg',\n",
       "  -0.05882353,\n",
       "  -0.010673793103448464],\n",
       " ['Data1/IMG/center_2018_12_13_19_38_55_409.jpg',\n",
       "  -0.05882353,\n",
       "  -0.020114482758620707],\n",
       " ['Data1/IMG/center_2018_12_13_19_38_55_482.jpg',\n",
       "  -0.05882353,\n",
       "  -0.029479999999999996],\n",
       " ['Data1/IMG/center_2018_12_13_19_38_55_564.jpg', 0.0, -0.03875586206896546],\n",
       " ['Data1/IMG/center_2018_12_13_19_38_56_228.jpg', 0.0, -0.2813351724137932]]"
      ]
     },
     "execution_count": 6,
     "metadata": {},
     "output_type": "execute_result"
    }
   ],
   "source": [
    "centers_train[-5:]"
   ]
  },
  {
   "cell_type": "code",
   "execution_count": 7,
   "metadata": {},
   "outputs": [],
   "source": [
    "samples_train =[]\n",
    "samples_valid = []"
   ]
  },
  {
   "cell_type": "code",
   "execution_count": 8,
   "metadata": {},
   "outputs": [
    {
     "data": {
      "text/plain": [
       "5196"
      ]
     },
     "execution_count": 8,
     "metadata": {},
     "output_type": "execute_result"
    }
   ],
   "source": [
    "len(centers_train)"
   ]
  },
  {
   "cell_type": "code",
   "execution_count": 9,
   "metadata": {},
   "outputs": [],
   "source": [
    "def preprocess_data(datas, flag, type_input):\n",
    "    if type_input == \"Train\":\n",
    "        len_data = len(datas)\n",
    "        \n",
    "        for offset in range(len_data-5):\n",
    "            batch_samples = datas[offset:offset+5]\n",
    "            temp = []\n",
    "            for data in batch_samples:\n",
    "                temp.append([data[0], data[1], data[2], flag])\n",
    "            samples_train.append(temp)\n",
    "            \n",
    "    if type_input == \"Valid\":\n",
    "        len_data = len(datas)\n",
    "        \n",
    "        for offset in range(len_data-5):\n",
    "            batch_samples = datas[offset:offset+5]\n",
    "            temp = []\n",
    "            for data in batch_samples:\n",
    "                temp.append([data[0], data[1], data[2], flag])\n",
    "            samples_valid.append(temp)\n",
    "        "
   ]
  },
  {
   "cell_type": "code",
   "execution_count": 10,
   "metadata": {},
   "outputs": [],
   "source": [
    "preprocess_data(centers_train, 'origin', 'Train')\n"
   ]
  },
  {
   "cell_type": "code",
   "execution_count": 11,
   "metadata": {},
   "outputs": [],
   "source": [
    "preprocess_data(lefts_train, 'origin', 'Train')\n",
    "preprocess_data(rights_train, 'origin', 'Train')\n",
    "\n",
    "preprocess_data(centers_train, 'flip', 'Train')\n",
    "preprocess_data(lefts_train, 'flip', 'Train')\n",
    "preprocess_data(rights_train, 'flip', 'Train')\n",
    "\n",
    "preprocess_data(lefts_valid, 'origin', 'Valid')\n",
    "preprocess_data(rights_valid, 'origin', 'Valid')\n",
    "preprocess_data(centers_valid, 'origin', 'Valid')"
   ]
  },
  {
   "cell_type": "code",
   "execution_count": 12,
   "metadata": {},
   "outputs": [
    {
     "name": "stdout",
     "output_type": "stream",
     "text": [
      "31146\n",
      "4476\n"
     ]
    }
   ],
   "source": [
    "print (len(samples_train))\n",
    "print (len(samples_valid))"
   ]
  },
  {
   "cell_type": "code",
   "execution_count": 13,
   "metadata": {},
   "outputs": [
    {
     "name": "stdout",
     "output_type": "stream",
     "text": [
      "[['Data1/IMG/center_2018_12_13_19_32_40_877.jpg', -0.08823529, -0.4365572413793104, 'origin'], ['Data1/IMG/center_2018_12_13_19_32_40_949.jpg', -0.08823529, -0.43972344827586207, 'origin'], ['Data1/IMG/center_2018_12_13_19_32_41_021.jpg', -0.08823529, -0.43503448275862067, 'origin'], ['Data1/IMG/center_2018_12_13_19_32_41_091.jpg', -0.08823529, -0.4385344827586207, 'origin'], ['Data1/IMG/center_2018_12_13_19_32_41_161.jpg', -0.08823529, -0.44471103448275867, 'origin']]\n",
      "---------------------\n",
      "['Data1/IMG/center_2018_12_13_19_32_40_949.jpg', -0.08823529, -0.43972344827586207, 'origin']\n"
     ]
    }
   ],
   "source": [
    "print(samples_train[0])\n",
    "print (\"---------------------\")\n",
    "print(samples_train[0][1])"
   ]
  },
  {
   "cell_type": "code",
   "execution_count": 14,
   "metadata": {},
   "outputs": [],
   "source": [
    "def mini_model():\n",
    "    img_input = Input(shape=(160, 320, 3))\n",
    "    crop_layer = Cropping2D(cropping=((60, 0), (0,0)))(img_input)\n",
    "    lambda_layer = Lambda(lambda x: x/127.5 - 1.)(crop_layer)\n",
    "    \n",
    "    conv1 = Conv2D(16, (5,5), padding='same', activation='relu')(lambda_layer)\n",
    "    pool_layer1 = AveragePooling2D(pool_size=(2, 5))(conv1)\n",
    "    \n",
    "    conv_layer1 = Conv2D(32, (5, 5), activation='relu')(pool_layer1)\n",
    "    pool_layer2 = MaxPooling2D()(conv_layer1)\n",
    "    \n",
    "    conv_layer2 = Conv2D(64, (5, 5), activation='relu')(pool_layer2)\n",
    "    pool_layer3 = MaxPooling2D()(conv_layer2)\n",
    "    \n",
    "    conv_layer3 = Conv2D(72, (3, 3), activation='relu')(pool_layer3)\n",
    "    conv_layer4 = Conv2D(96, (3, 3), activation='relu')(conv_layer3)\n",
    "    conv_layer5 = Conv2D(112, (3, 3), activation='relu')(conv_layer4)\n",
    "    conv_layer6 = Conv2D(128, (3, 3), activation='relu')(conv_layer5)\n",
    "    flatten = Flatten()(conv_layer6)\n",
    "    dense1 = Dense(300, activation='relu')(flatten)\n",
    "    dense2 = Dense(100, activation='relu')(dense1)\n",
    "    return Model(inputs=[img_input], outputs = [dense2])\n",
    "    \n",
    "def model_control():\n",
    "    share_conv = mini_model()\n",
    "#     share_conv.summary()\n",
    "\n",
    "    input1 = Input(shape=(160, 320, 3))\n",
    "    input2 = Input(shape=(160, 320, 3))\n",
    "    input3 = Input(shape=(160, 320, 3))\n",
    "    input4 = Input(shape=(160, 320, 3))\n",
    "    input5 = Input(shape=(160, 320, 3))\n",
    "\n",
    "    conv1 = share_conv(input1)\n",
    "    conv2 = share_conv(input2)\n",
    "    conv3 = share_conv(input3)\n",
    "    conv4 = share_conv(input4)\n",
    "    conv5 = share_conv(input5)\n",
    "    \n",
    "\n",
    "    out = concatenate(inputs=[conv1,conv2,conv3,conv4,conv5], axis=-1)\n",
    "    out = keras.layers.Reshape(target_shape=(5, 100))(out)\n",
    "    out = GRU((100),activation=\"relu\",return_sequences=True)(out)\n",
    "    out = GRU((100),activation=\"relu\",return_sequences=True)(out)\n",
    "    out = GRU((100),activation=\"relu\",return_sequences=True)(out)\n",
    "#     out = LSTM((100),activation=\"relu\",return_sequences=True)(out)\n",
    "    flat = Flatten()(out)\n",
    "    \n",
    "    fc1 = Dense(100,activation=\"relu\")(flat)\n",
    "    drop1 = Dropout(0.4)(fc1)\n",
    "    fc2 = Dense(50,activation=\"relu\")(drop1)\n",
    "    fc3 = Dense(1)(fc2)\n",
    "    \n",
    "    fc4 = Dense(100,activation=\"relu\")(flat)\n",
    "    drop2 = Dropout(0.4)(fc4)\n",
    "    fc5 = Dense(50,activation=\"relu\")(drop2)\n",
    "    fc6 = Dense(1)(fc5)\n",
    "    return Model(inputs=[input1, input2, input3, input4, input5], outputs = [fc3,fc6])"
   ]
  },
  {
   "cell_type": "code",
   "execution_count": 15,
   "metadata": {},
   "outputs": [
    {
     "name": "stdout",
     "output_type": "stream",
     "text": [
      "__________________________________________________________________________________________________\n",
      "Layer (type)                    Output Shape         Param #     Connected to                     \n",
      "==================================================================================================\n",
      "input_2 (InputLayer)            (None, 160, 320, 3)  0                                            \n",
      "__________________________________________________________________________________________________\n",
      "input_3 (InputLayer)            (None, 160, 320, 3)  0                                            \n",
      "__________________________________________________________________________________________________\n",
      "input_4 (InputLayer)            (None, 160, 320, 3)  0                                            \n",
      "__________________________________________________________________________________________________\n",
      "input_5 (InputLayer)            (None, 160, 320, 3)  0                                            \n",
      "__________________________________________________________________________________________________\n",
      "input_6 (InputLayer)            (None, 160, 320, 3)  0                                            \n",
      "__________________________________________________________________________________________________\n",
      "model_1 (Model)                 (None, 100)          617592      input_2[0][0]                    \n",
      "                                                                 input_3[0][0]                    \n",
      "                                                                 input_4[0][0]                    \n",
      "                                                                 input_5[0][0]                    \n",
      "                                                                 input_6[0][0]                    \n",
      "__________________________________________________________________________________________________\n",
      "concatenate_1 (Concatenate)     (None, 500)          0           model_1[1][0]                    \n",
      "                                                                 model_1[2][0]                    \n",
      "                                                                 model_1[3][0]                    \n",
      "                                                                 model_1[4][0]                    \n",
      "                                                                 model_1[5][0]                    \n",
      "__________________________________________________________________________________________________\n",
      "reshape_1 (Reshape)             (None, 5, 100)       0           concatenate_1[0][0]              \n",
      "__________________________________________________________________________________________________\n",
      "gru_1 (GRU)                     (None, 5, 100)       60300       reshape_1[0][0]                  \n",
      "__________________________________________________________________________________________________\n",
      "gru_2 (GRU)                     (None, 5, 100)       60300       gru_1[0][0]                      \n",
      "__________________________________________________________________________________________________\n",
      "gru_3 (GRU)                     (None, 5, 100)       60300       gru_2[0][0]                      \n",
      "__________________________________________________________________________________________________\n",
      "flatten_2 (Flatten)             (None, 500)          0           gru_3[0][0]                      \n",
      "__________________________________________________________________________________________________\n",
      "dense_3 (Dense)                 (None, 100)          50100       flatten_2[0][0]                  \n",
      "__________________________________________________________________________________________________\n",
      "dense_6 (Dense)                 (None, 100)          50100       flatten_2[0][0]                  \n",
      "__________________________________________________________________________________________________\n",
      "dropout_1 (Dropout)             (None, 100)          0           dense_3[0][0]                    \n",
      "__________________________________________________________________________________________________\n",
      "dropout_2 (Dropout)             (None, 100)          0           dense_6[0][0]                    \n",
      "__________________________________________________________________________________________________\n",
      "dense_4 (Dense)                 (None, 50)           5050        dropout_1[0][0]                  \n",
      "__________________________________________________________________________________________________\n",
      "dense_7 (Dense)                 (None, 50)           5050        dropout_2[0][0]                  \n",
      "__________________________________________________________________________________________________\n",
      "dense_5 (Dense)                 (None, 1)            51          dense_4[0][0]                    \n",
      "__________________________________________________________________________________________________\n",
      "dense_8 (Dense)                 (None, 1)            51          dense_7[0][0]                    \n",
      "==================================================================================================\n",
      "Total params: 908,894\n",
      "Trainable params: 908,894\n",
      "Non-trainable params: 0\n",
      "__________________________________________________________________________________________________\n"
     ]
    }
   ],
   "source": [
    "model = model_control()\n",
    "model.summary()"
   ]
  },
  {
   "cell_type": "code",
   "execution_count": 19,
   "metadata": {},
   "outputs": [],
   "source": [
    "def generator(samples, batch_size=32):\n",
    "    num_samples = len(samples)\n",
    "    while 1: \n",
    "        samples = shuffle(samples)\n",
    "        for offset in range(0, num_samples, batch_size):\n",
    "            batch_samples = samples[offset:offset+batch_size]\n",
    "            images_1 = []\n",
    "            images_2 = []\n",
    "            images_3 = []\n",
    "            images_4 = []\n",
    "            images_5 = []\n",
    "            \n",
    "            angles = []\n",
    "            speeds = []\n",
    "            for batch_sample in batch_samples:\n",
    "#                 print (batch_sample)\n",
    "                try:\n",
    "                    img1 = cv2.imread(batch_sample[0][0])\n",
    "                    img1 = cv2.cvtColor(img1, cv2.COLOR_BGR2HSV)\n",
    "\n",
    "                    img2 = cv2.imread(batch_sample[1][0])\n",
    "                    img2 = cv2.cvtColor(img2, cv2.COLOR_BGR2HSV)\n",
    "\n",
    "                    img3 = cv2.imread(batch_sample[2][0])\n",
    "                    img3 = cv2.cvtColor(img3, cv2.COLOR_BGR2HSV)\n",
    "\n",
    "                    img4 = cv2.imread(batch_sample[3][0])\n",
    "                    img4 = cv2.cvtColor(img4, cv2.COLOR_BGR2HSV)\n",
    "\n",
    "                    img5 = cv2.imread(batch_sample[4][0])\n",
    "                    img5 = cv2.cvtColor(img5, cv2.COLOR_BGR2HSV)\n",
    "\n",
    "                    angle = batch_sample[0][1]\n",
    "                    speed = batch_sample[0][2]\n",
    "                    if batch_sample[0][3] == 'flip':\n",
    "                        img1 = cv2.flip(img1,1)\n",
    "                        img2 = cv2.flip(img2,1)\n",
    "                        img3 = cv2.flip(img3,1)\n",
    "                        img4 = cv2.flip(img4,1)\n",
    "                        img5 = cv2.flip(img5,1)\n",
    "                        angle = -angle\n",
    "\n",
    "                    images_1.append(img1)\n",
    "                    images_2.append(img2)\n",
    "                    images_3.append(img3)\n",
    "                    images_4.append(img4)\n",
    "                    images_5.append(img5)\n",
    "\n",
    "                    angles.append([angle])\n",
    "                    speeds.append([speed])\n",
    "                except:\n",
    "                    print (batch_sample)\n",
    "            \n",
    "            images_1 = np.array(images_1)\n",
    "            images_2 = np.array(images_2)\n",
    "            images_3 = np.array(images_3)\n",
    "            images_4 = np.array(images_4)\n",
    "            images_5 = np.array(images_5)\n",
    "            \n",
    "            steer_train = np.array(angles)\n",
    "            speed_train = np.array(speeds)\n",
    "            yield [images_1,images_2,images_3,images_4,images_5], [steer_train,speed_train]"
   ]
  },
  {
   "cell_type": "code",
   "execution_count": 20,
   "metadata": {},
   "outputs": [
    {
     "name": "stdout",
     "output_type": "stream",
     "text": [
      "31146\n",
      "4476\n"
     ]
    }
   ],
   "source": [
    "print (len(samples_train))\n",
    "print (len(samples_valid))"
   ]
  },
  {
   "cell_type": "code",
   "execution_count": 21,
   "metadata": {},
   "outputs": [],
   "source": [
    "train_generator = generator(samples_train)\n",
    "validation_generator = generator(samples_valid)"
   ]
  },
  {
   "cell_type": "code",
   "execution_count": 22,
   "metadata": {},
   "outputs": [],
   "source": [
    "adam = optimizers.Adam(lr=0.001, beta_1=0.9, beta_2=0.999, epsilon=0.01, decay=0.0)\n",
    "model.compile(loss='mse', optimizer=adam)"
   ]
  },
  {
   "cell_type": "code",
   "execution_count": 23,
   "metadata": {
    "scrolled": true
   },
   "outputs": [
    {
     "name": "stdout",
     "output_type": "stream",
     "text": [
      "Epoch 1/20\n",
      "973/973 [==============================] - 627s 644ms/step - loss: 0.1003 - dense_5_loss: 0.0309 - dense_8_loss: 0.0693 - val_loss: 0.1718 - val_dense_5_loss: 0.0286 - val_dense_8_loss: 0.1433\n",
      "Epoch 2/20\n",
      "973/973 [==============================] - 466s 479ms/step - loss: 0.0757 - dense_5_loss: 0.0169 - dense_8_loss: 0.0588 - val_loss: 0.1069 - val_dense_5_loss: 0.0085 - val_dense_8_loss: 0.0984\n",
      "Epoch 3/20\n",
      "973/973 [==============================] - 396s 407ms/step - loss: 0.0478 - dense_5_loss: 0.0054 - dense_8_loss: 0.0424 - val_loss: 0.1486 - val_dense_5_loss: 0.0060 - val_dense_8_loss: 0.1425\n",
      "Epoch 4/20\n",
      "973/973 [==============================] - 606s 623ms/step - loss: 0.0388 - dense_5_loss: 0.0036 - dense_8_loss: 0.0352 - val_loss: 0.1453 - val_dense_5_loss: 0.0067 - val_dense_8_loss: 0.1387\n",
      "Epoch 5/20\n",
      "973/973 [==============================] - 931s 957ms/step - loss: 0.0353 - dense_5_loss: 0.0031 - dense_8_loss: 0.0322 - val_loss: 0.0865 - val_dense_5_loss: 0.0045 - val_dense_8_loss: 0.0820\n",
      "Epoch 6/20\n",
      "973/973 [==============================] - 446s 458ms/step - loss: 0.0331 - dense_5_loss: 0.0028 - dense_8_loss: 0.0304 - val_loss: 0.1282 - val_dense_5_loss: 0.0050 - val_dense_8_loss: 0.1232\n",
      "Epoch 7/20\n",
      "973/973 [==============================] - 354s 364ms/step - loss: 0.0312 - dense_5_loss: 0.0026 - dense_8_loss: 0.0286 - val_loss: 0.1124 - val_dense_5_loss: 0.0054 - val_dense_8_loss: 0.1070\n",
      "Epoch 8/20\n",
      "973/973 [==============================] - 355s 365ms/step - loss: 0.0293 - dense_5_loss: 0.0024 - dense_8_loss: 0.0268 - val_loss: 0.1110 - val_dense_5_loss: 0.0051 - val_dense_8_loss: 0.1059\n",
      "Epoch 9/20\n",
      "973/973 [==============================] - 354s 363ms/step - loss: 0.0273 - dense_5_loss: 0.0023 - dense_8_loss: 0.0250 - val_loss: 0.1601 - val_dense_5_loss: 0.0060 - val_dense_8_loss: 0.1542\n",
      "Epoch 10/20\n",
      "973/973 [==============================] - 353s 362ms/step - loss: 0.0254 - dense_5_loss: 0.0022 - dense_8_loss: 0.0232 - val_loss: 0.1268 - val_dense_5_loss: 0.0050 - val_dense_8_loss: 0.1218\n",
      "Epoch 11/20\n",
      "973/973 [==============================] - 353s 362ms/step - loss: 0.0241 - dense_5_loss: 0.0022 - dense_8_loss: 0.0219 - val_loss: 0.1424 - val_dense_5_loss: 0.0045 - val_dense_8_loss: 0.1379\n",
      "Epoch 12/20\n",
      "393/973 [===========>..................] - ETA: 13:44 - loss: 0.0223 - dense_5_loss: 0.0020 - dense_8_loss: 0.0203"
     ]
    },
    {
     "ename": "KeyboardInterrupt",
     "evalue": "",
     "output_type": "error",
     "traceback": [
      "\u001b[1;31m---------------------------------------------------------------------------\u001b[0m",
      "\u001b[1;31mKeyboardInterrupt\u001b[0m                         Traceback (most recent call last)",
      "\u001b[1;32m<ipython-input-23-f3e6bd1c91d6>\u001b[0m in \u001b[0;36m<module>\u001b[1;34m\u001b[0m\n\u001b[0;32m      3\u001b[0m         \u001b[0mvalidation_data\u001b[0m\u001b[1;33m=\u001b[0m\u001b[0mvalidation_generator\u001b[0m\u001b[1;33m,\u001b[0m\u001b[1;33m\u001b[0m\u001b[0m\n\u001b[0;32m      4\u001b[0m         \u001b[0mvalidation_steps\u001b[0m\u001b[1;33m=\u001b[0m\u001b[0mlen\u001b[0m\u001b[1;33m(\u001b[0m\u001b[0msamples_valid\u001b[0m\u001b[1;33m)\u001b[0m\u001b[1;33m//\u001b[0m\u001b[1;36m32\u001b[0m\u001b[1;33m,\u001b[0m\u001b[1;33m\u001b[0m\u001b[0m\n\u001b[1;32m----> 5\u001b[1;33m         epochs=20)\n\u001b[0m",
      "\u001b[1;32m~\\Anaconda3\\envs\\carnd-term1\\lib\\site-packages\\keras\\legacy\\interfaces.py\u001b[0m in \u001b[0;36mwrapper\u001b[1;34m(*args, **kwargs)\u001b[0m\n\u001b[0;32m     89\u001b[0m                 warnings.warn('Update your `' + object_name +\n\u001b[0;32m     90\u001b[0m                               '` call to the Keras 2 API: ' + signature, stacklevel=2)\n\u001b[1;32m---> 91\u001b[1;33m             \u001b[1;32mreturn\u001b[0m \u001b[0mfunc\u001b[0m\u001b[1;33m(\u001b[0m\u001b[1;33m*\u001b[0m\u001b[0margs\u001b[0m\u001b[1;33m,\u001b[0m \u001b[1;33m**\u001b[0m\u001b[0mkwargs\u001b[0m\u001b[1;33m)\u001b[0m\u001b[1;33m\u001b[0m\u001b[0m\n\u001b[0m\u001b[0;32m     92\u001b[0m         \u001b[0mwrapper\u001b[0m\u001b[1;33m.\u001b[0m\u001b[0m_original_function\u001b[0m \u001b[1;33m=\u001b[0m \u001b[0mfunc\u001b[0m\u001b[1;33m\u001b[0m\u001b[0m\n\u001b[0;32m     93\u001b[0m         \u001b[1;32mreturn\u001b[0m \u001b[0mwrapper\u001b[0m\u001b[1;33m\u001b[0m\u001b[0m\n",
      "\u001b[1;32m~\\Anaconda3\\envs\\carnd-term1\\lib\\site-packages\\keras\\engine\\training.py\u001b[0m in \u001b[0;36mfit_generator\u001b[1;34m(self, generator, steps_per_epoch, epochs, verbose, callbacks, validation_data, validation_steps, class_weight, max_queue_size, workers, use_multiprocessing, shuffle, initial_epoch)\u001b[0m\n\u001b[0;32m   1413\u001b[0m             \u001b[0muse_multiprocessing\u001b[0m\u001b[1;33m=\u001b[0m\u001b[0muse_multiprocessing\u001b[0m\u001b[1;33m,\u001b[0m\u001b[1;33m\u001b[0m\u001b[0m\n\u001b[0;32m   1414\u001b[0m             \u001b[0mshuffle\u001b[0m\u001b[1;33m=\u001b[0m\u001b[0mshuffle\u001b[0m\u001b[1;33m,\u001b[0m\u001b[1;33m\u001b[0m\u001b[0m\n\u001b[1;32m-> 1415\u001b[1;33m             initial_epoch=initial_epoch)\n\u001b[0m\u001b[0;32m   1416\u001b[0m \u001b[1;33m\u001b[0m\u001b[0m\n\u001b[0;32m   1417\u001b[0m     \u001b[1;33m@\u001b[0m\u001b[0minterfaces\u001b[0m\u001b[1;33m.\u001b[0m\u001b[0mlegacy_generator_methods_support\u001b[0m\u001b[1;33m\u001b[0m\u001b[0m\n",
      "\u001b[1;32m~\\Anaconda3\\envs\\carnd-term1\\lib\\site-packages\\keras\\engine\\training_generator.py\u001b[0m in \u001b[0;36mfit_generator\u001b[1;34m(model, generator, steps_per_epoch, epochs, verbose, callbacks, validation_data, validation_steps, class_weight, max_queue_size, workers, use_multiprocessing, shuffle, initial_epoch)\u001b[0m\n\u001b[0;32m    211\u001b[0m                 outs = model.train_on_batch(x, y,\n\u001b[0;32m    212\u001b[0m                                             \u001b[0msample_weight\u001b[0m\u001b[1;33m=\u001b[0m\u001b[0msample_weight\u001b[0m\u001b[1;33m,\u001b[0m\u001b[1;33m\u001b[0m\u001b[0m\n\u001b[1;32m--> 213\u001b[1;33m                                             class_weight=class_weight)\n\u001b[0m\u001b[0;32m    214\u001b[0m \u001b[1;33m\u001b[0m\u001b[0m\n\u001b[0;32m    215\u001b[0m                 \u001b[0mouts\u001b[0m \u001b[1;33m=\u001b[0m \u001b[0mto_list\u001b[0m\u001b[1;33m(\u001b[0m\u001b[0mouts\u001b[0m\u001b[1;33m)\u001b[0m\u001b[1;33m\u001b[0m\u001b[0m\n",
      "\u001b[1;32m~\\Anaconda3\\envs\\carnd-term1\\lib\\site-packages\\keras\\engine\\training.py\u001b[0m in \u001b[0;36mtrain_on_batch\u001b[1;34m(self, x, y, sample_weight, class_weight)\u001b[0m\n\u001b[0;32m   1213\u001b[0m             \u001b[0mins\u001b[0m \u001b[1;33m=\u001b[0m \u001b[0mx\u001b[0m \u001b[1;33m+\u001b[0m \u001b[0my\u001b[0m \u001b[1;33m+\u001b[0m \u001b[0msample_weights\u001b[0m\u001b[1;33m\u001b[0m\u001b[0m\n\u001b[0;32m   1214\u001b[0m         \u001b[0mself\u001b[0m\u001b[1;33m.\u001b[0m\u001b[0m_make_train_function\u001b[0m\u001b[1;33m(\u001b[0m\u001b[1;33m)\u001b[0m\u001b[1;33m\u001b[0m\u001b[0m\n\u001b[1;32m-> 1215\u001b[1;33m         \u001b[0moutputs\u001b[0m \u001b[1;33m=\u001b[0m \u001b[0mself\u001b[0m\u001b[1;33m.\u001b[0m\u001b[0mtrain_function\u001b[0m\u001b[1;33m(\u001b[0m\u001b[0mins\u001b[0m\u001b[1;33m)\u001b[0m\u001b[1;33m\u001b[0m\u001b[0m\n\u001b[0m\u001b[0;32m   1216\u001b[0m         \u001b[1;32mreturn\u001b[0m \u001b[0munpack_singleton\u001b[0m\u001b[1;33m(\u001b[0m\u001b[0moutputs\u001b[0m\u001b[1;33m)\u001b[0m\u001b[1;33m\u001b[0m\u001b[0m\n\u001b[0;32m   1217\u001b[0m \u001b[1;33m\u001b[0m\u001b[0m\n",
      "\u001b[1;32m~\\Anaconda3\\envs\\carnd-term1\\lib\\site-packages\\keras\\backend\\tensorflow_backend.py\u001b[0m in \u001b[0;36m__call__\u001b[1;34m(self, inputs)\u001b[0m\n\u001b[0;32m   2664\u001b[0m                 \u001b[1;32mreturn\u001b[0m \u001b[0mself\u001b[0m\u001b[1;33m.\u001b[0m\u001b[0m_legacy_call\u001b[0m\u001b[1;33m(\u001b[0m\u001b[0minputs\u001b[0m\u001b[1;33m)\u001b[0m\u001b[1;33m\u001b[0m\u001b[0m\n\u001b[0;32m   2665\u001b[0m \u001b[1;33m\u001b[0m\u001b[0m\n\u001b[1;32m-> 2666\u001b[1;33m             \u001b[1;32mreturn\u001b[0m \u001b[0mself\u001b[0m\u001b[1;33m.\u001b[0m\u001b[0m_call\u001b[0m\u001b[1;33m(\u001b[0m\u001b[0minputs\u001b[0m\u001b[1;33m)\u001b[0m\u001b[1;33m\u001b[0m\u001b[0m\n\u001b[0m\u001b[0;32m   2667\u001b[0m         \u001b[1;32melse\u001b[0m\u001b[1;33m:\u001b[0m\u001b[1;33m\u001b[0m\u001b[0m\n\u001b[0;32m   2668\u001b[0m             \u001b[1;32mif\u001b[0m \u001b[0mpy_any\u001b[0m\u001b[1;33m(\u001b[0m\u001b[0mis_tensor\u001b[0m\u001b[1;33m(\u001b[0m\u001b[0mx\u001b[0m\u001b[1;33m)\u001b[0m \u001b[1;32mfor\u001b[0m \u001b[0mx\u001b[0m \u001b[1;32min\u001b[0m \u001b[0minputs\u001b[0m\u001b[1;33m)\u001b[0m\u001b[1;33m:\u001b[0m\u001b[1;33m\u001b[0m\u001b[0m\n",
      "\u001b[1;32m~\\Anaconda3\\envs\\carnd-term1\\lib\\site-packages\\keras\\backend\\tensorflow_backend.py\u001b[0m in \u001b[0;36m_call\u001b[1;34m(self, inputs)\u001b[0m\n\u001b[0;32m   2634\u001b[0m                                 \u001b[0msymbol_vals\u001b[0m\u001b[1;33m,\u001b[0m\u001b[1;33m\u001b[0m\u001b[0m\n\u001b[0;32m   2635\u001b[0m                                 session)\n\u001b[1;32m-> 2636\u001b[1;33m         \u001b[0mfetched\u001b[0m \u001b[1;33m=\u001b[0m \u001b[0mself\u001b[0m\u001b[1;33m.\u001b[0m\u001b[0m_callable_fn\u001b[0m\u001b[1;33m(\u001b[0m\u001b[1;33m*\u001b[0m\u001b[0marray_vals\u001b[0m\u001b[1;33m)\u001b[0m\u001b[1;33m\u001b[0m\u001b[0m\n\u001b[0m\u001b[0;32m   2637\u001b[0m         \u001b[1;32mreturn\u001b[0m \u001b[0mfetched\u001b[0m\u001b[1;33m[\u001b[0m\u001b[1;33m:\u001b[0m\u001b[0mlen\u001b[0m\u001b[1;33m(\u001b[0m\u001b[0mself\u001b[0m\u001b[1;33m.\u001b[0m\u001b[0moutputs\u001b[0m\u001b[1;33m)\u001b[0m\u001b[1;33m]\u001b[0m\u001b[1;33m\u001b[0m\u001b[0m\n\u001b[0;32m   2638\u001b[0m \u001b[1;33m\u001b[0m\u001b[0m\n",
      "\u001b[1;32m~\\Anaconda3\\envs\\carnd-term1\\lib\\site-packages\\tensorflow\\python\\client\\session.py\u001b[0m in \u001b[0;36m__call__\u001b[1;34m(self, *args)\u001b[0m\n\u001b[0;32m   1449\u001b[0m         \u001b[1;32mif\u001b[0m \u001b[0mself\u001b[0m\u001b[1;33m.\u001b[0m\u001b[0m_session\u001b[0m\u001b[1;33m.\u001b[0m\u001b[0m_created_with_new_api\u001b[0m\u001b[1;33m:\u001b[0m\u001b[1;33m\u001b[0m\u001b[0m\n\u001b[0;32m   1450\u001b[0m           return tf_session.TF_SessionRunCallable(\n\u001b[1;32m-> 1451\u001b[1;33m               self._session._session, self._handle, args, status, None)\n\u001b[0m\u001b[0;32m   1452\u001b[0m         \u001b[1;32melse\u001b[0m\u001b[1;33m:\u001b[0m\u001b[1;33m\u001b[0m\u001b[0m\n\u001b[0;32m   1453\u001b[0m           return tf_session.TF_DeprecatedSessionRunCallable(\n",
      "\u001b[1;31mKeyboardInterrupt\u001b[0m: "
     ]
    }
   ],
   "source": [
    "model.fit_generator(train_generator,\n",
    "        steps_per_epoch=len(samples_train)//32,\n",
    "        validation_data=validation_generator,\n",
    "        validation_steps=len(samples_valid)//32,\n",
    "        epochs=20)"
   ]
  },
  {
   "cell_type": "code",
   "execution_count": 21,
   "metadata": {},
   "outputs": [],
   "source": [
    "model.save(\"GRU.h5\")"
   ]
  },
  {
   "cell_type": "code",
   "execution_count": null,
   "metadata": {},
   "outputs": [],
   "source": []
  },
  {
   "cell_type": "code",
   "execution_count": null,
   "metadata": {},
   "outputs": [],
   "source": [
    "def generator(samples, batch_size=32):\n",
    "    num_samples = len(samples)\n",
    "    while 1: # Loop forever so the generator never terminates\n",
    "        samples = shuffle(samples)\n",
    "        for offset in range(0, num_samples, batch_size):\n",
    "            batch_samples = samples[offset:offset+batch_size]\n",
    "            images = []\n",
    "            angles = []\n",
    "            speeds = []\n",
    "            for batch_sample in batch_samples:\n",
    "                center_image = cv2.imread(batch_sample[0])\n",
    "                center_image = cv2.cvtColor(center_image, cv2.COLOR_BGR2HSV)\n",
    "                center_angle = batch_sample[1]\n",
    "                speed = batch_sample[2]\n",
    "                if batch_sample[3] == 'flip':\n",
    "                    center_image = cv2.flip(center_image,1)\n",
    "                    center_angle = -batch_sample[1]\n",
    "                images.append(center_image)\n",
    "                angles.append([center_angle])\n",
    "                speeds.append([speed])\n",
    "            \n",
    "            X_train = np.array(images)\n",
    "            steer_train = np.array(angles)\n",
    "            speed_train = np.array(speeds)\n",
    "            yield [X_train], [steer_train,speed_train]"
   ]
  },
  {
   "cell_type": "code",
   "execution_count": null,
   "metadata": {},
   "outputs": [],
   "source": [
    "def model_control():\n",
    "    img_input = Input(shape=(160, 320, 3))\n",
    "    crop_layer = Cropping2D(cropping=((60, 0), (0, 0)))(img_input)\n",
    "    lambda_layer = Lambda(lambda x: x/127.5 - 1.)(crop_layer)\n",
    "    \n",
    "    conv1 = Conv2D(16, (5,5), padding='same', activation='relu')(lambda_layer)\n",
    "    pool_layer1 = AveragePooling2D(pool_size=(2, 5))(conv1)\n",
    "    \n",
    "    conv_layer1 = Conv2D(32, (5, 5), activation='relu')(pool_layer1)\n",
    "    pool_layer2 = MaxPooling2D()(conv_layer1)\n",
    "    \n",
    "    conv_layer2 = Conv2D(64, (5, 5), activation='relu')(pool_layer2)\n",
    "    pool_layer3 = MaxPooling2D()(conv_layer2)\n",
    "    \n",
    "    conv_layer3 = Conv2D(72, (3, 3), activation='relu')(pool_layer3)\n",
    "    conv_layer4 = Conv2D(96, (3, 3), activation='relu')(conv_layer3)\n",
    "    conv_layer5 = Conv2D(112, (3, 3), activation='relu')(conv_layer4)\n",
    "    conv_layer6 = Conv2D(128, (3, 3), activation='relu')(conv_layer5)\n",
    "    \n",
    "    flatten = Flatten()(conv_layer6)\n",
    "    \n",
    "    dense1 = Dense(300, activation='relu')(flatten)\n",
    "    drop = Dropout(0.5)(dense1)\n",
    "    dense2 = Dense(100, activation='relu')(drop)\n",
    "    dense3 = Dense(50, activation='relu')(dense2)\n",
    "    dense4 = Dense(1)(dense3)\n",
    "    \n",
    "    dense5 = Dense(100, activation='relu')(drop)\n",
    "    dense6 = Dense(50, activation='relu')(dense5)\n",
    "    dense7 = Dense(1)(dense6)\n",
    "    \n",
    "    return Model(inputs=[img_input], outputs = [dense4,dense7])"
   ]
  },
  {
   "cell_type": "code",
   "execution_count": null,
   "metadata": {},
   "outputs": [],
   "source": [
    "model = model_control()\n",
    "model.summary()"
   ]
  },
  {
   "cell_type": "code",
   "execution_count": null,
   "metadata": {},
   "outputs": [],
   "source": [
    "samples = shuffle(samples)\n",
    "train_samples, validation_samples = train_test_split(samples, test_size=0.2)\n"
   ]
  },
  {
   "cell_type": "code",
   "execution_count": null,
   "metadata": {},
   "outputs": [],
   "source": [
    "train_generator = generator(train_samples)\n",
    "validation_generator = generator(validation_samples)\n"
   ]
  },
  {
   "cell_type": "code",
   "execution_count": null,
   "metadata": {},
   "outputs": [],
   "source": [
    "adam = optimizers.Adam(lr=0.001, beta_1=0.9, beta_2=0.999, epsilon=0.01, decay=0.0)\n",
    "model.compile(loss='mse', optimizer=adam)"
   ]
  },
  {
   "cell_type": "code",
   "execution_count": null,
   "metadata": {
    "scrolled": false
   },
   "outputs": [],
   "source": [
    "model.fit_generator(train_generator,\n",
    "        steps_per_epoch=len(train_samples)//32,\n",
    "        validation_data=validation_generator,\n",
    "        validation_steps=len(validation_samples)//32,\n",
    "        epochs=10)"
   ]
  },
  {
   "cell_type": "code",
   "execution_count": null,
   "metadata": {},
   "outputs": [],
   "source": [
    "model.save('./model_diff1.h5')\n",
    "# model.save_weights('./weight.h5')"
   ]
  },
  {
   "cell_type": "code",
   "execution_count": null,
   "metadata": {},
   "outputs": [],
   "source": [
    "img = cv2.imread('Data/IMG/center_2018_10_18_10_40_28_988.jpg')\n",
    "img = cv2.cvtColor(img, cv2.COLOR_BGR2HSV)"
   ]
  },
  {
   "cell_type": "code",
   "execution_count": null,
   "metadata": {},
   "outputs": [],
   "source": []
  },
  {
   "cell_type": "code",
   "execution_count": null,
   "metadata": {},
   "outputs": [],
   "source": [
    "a = model.predict(img[None, ...])"
   ]
  },
  {
   "cell_type": "code",
   "execution_count": null,
   "metadata": {},
   "outputs": [],
   "source": [
    "a"
   ]
  },
  {
   "cell_type": "code",
   "execution_count": null,
   "metadata": {},
   "outputs": [],
   "source": []
  }
 ],
 "metadata": {
  "kernelspec": {
   "display_name": "Python 3",
   "language": "python",
   "name": "python3"
  },
  "language_info": {
   "codemirror_mode": {
    "name": "ipython",
    "version": 3
   },
   "file_extension": ".py",
   "mimetype": "text/x-python",
   "name": "python",
   "nbconvert_exporter": "python",
   "pygments_lexer": "ipython3",
   "version": "3.7.3"
  },
  "widgets": {
   "state": {},
   "version": "1.1.2"
  }
 },
 "nbformat": 4,
 "nbformat_minor": 2
}
